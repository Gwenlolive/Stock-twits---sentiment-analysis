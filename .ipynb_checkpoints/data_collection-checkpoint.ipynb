{
 "cells": [
  {
   "cell_type": "markdown",
   "id": "abd1c127-1730-4d72-8595-311808b66d41",
   "metadata": {},
   "source": [
    "# Data Collection\n",
    "\n",
    "#### We collect tweets regarding the **META** (ticker:`META`) company using StockTwits API. "
   ]
  },
  {
   "cell_type": "markdown",
   "id": "92a2078e-8520-46bb-9af0-5ff3be9fef2d",
   "metadata": {},
   "source": [
    "### Seup the environement"
   ]
  },
  {
   "cell_type": "code",
   "execution_count": 1,
   "id": "15f74805-95b4-4aa8-90ea-01f22aeba6e8",
   "metadata": {
    "tags": []
   },
   "outputs": [],
   "source": [
    "#!pip install \"pymongo[srv]\"==3.11\n",
    "#!pip install pymongo --upgrade\n",
    "#!pip install openai"
   ]
  },
  {
   "cell_type": "markdown",
   "id": "e3282c71-07ef-43ce-959a-5c99c4cf389d",
   "metadata": {},
   "source": [
    "### Import libs"
   ]
  },
  {
   "cell_type": "code",
   "execution_count": 2,
   "id": "46fa86a6-1f7d-41aa-bc67-273566914e6c",
   "metadata": {
    "tags": []
   },
   "outputs": [],
   "source": [
    "#### COMMON ####\n",
    "import pandas as pd\n",
    "import numpy as np\n",
    "\n",
    "import json\n",
    "import requests\n",
    "from datetime import datetime\n",
    "\n",
    "### MONGO DB ####\n",
    "from pymongo.mongo_client import MongoClient\n",
    "\n",
    "### Import utils function ###S\n",
    "from utils import test_connection_db, collect_tweets, insert_tweets, get_tweets_from_db, URI, DB_NAME"
   ]
  },
  {
   "cell_type": "markdown",
   "id": "5fc5cba5-dee8-4f74-8eb6-d23fda5cd4c6",
   "metadata": {},
   "source": [
    "### STEP 1: Load `META` tweets from StockTwits"
   ]
  },
  {
   "cell_type": "code",
   "execution_count": 3,
   "id": "629cde2a-0ddb-4788-865e-ecf9fb5d2141",
   "metadata": {
    "tags": []
   },
   "outputs": [
    {
     "name": "stdout",
     "output_type": "stream",
     "text": [
      "STARTING TO COLLECT TWEET META...\n",
      "\n",
      "\n",
      "COLLECTNG FROM:... \n",
      "1: https://api.stocktwits.com/api/2/streams/symbol/META.json\n",
      "COLLECTNG FROM:... \n",
      "2: https://api.stocktwits.com/api/2/streams/symbol/META.json?max=566349782\n",
      "COLLECTNG FROM:... \n",
      "3: https://api.stocktwits.com/api/2/streams/symbol/META.json?max=566309311\n",
      "COLLECTNG FROM:... \n",
      "4: https://api.stocktwits.com/api/2/streams/symbol/META.json?max=566280447\n",
      "COLLECTNG FROM:... \n",
      "5: https://api.stocktwits.com/api/2/streams/symbol/META.json?max=566237167\n",
      "COLLECTNG FROM:... \n",
      "6: https://api.stocktwits.com/api/2/streams/symbol/META.json?max=566215426\n",
      "COLLECTNG FROM:... \n",
      "7: https://api.stocktwits.com/api/2/streams/symbol/META.json?max=566198357\n",
      "COLLECTNG FROM:... \n",
      "8: https://api.stocktwits.com/api/2/streams/symbol/META.json?max=566164216\n",
      "COLLECTNG FROM:... \n",
      "9: https://api.stocktwits.com/api/2/streams/symbol/META.json?max=566120622\n",
      "COLLECTNG FROM:... \n",
      "10: https://api.stocktwits.com/api/2/streams/symbol/META.json?max=566085361\n",
      "\n",
      "105 TWEETS ARE SUCCESFULLY COLLECTED FROM THE TICKERMETA\n"
     ]
    }
   ],
   "source": [
    "df_meta_tweets = collect_tweets(ticker=\"META\", nb_url=10)"
   ]
  },
  {
   "cell_type": "code",
   "execution_count": 4,
   "id": "c20d4782-d54a-4872-a7db-a248ed901461",
   "metadata": {
    "tags": []
   },
   "outputs": [
    {
     "data": {
      "text/html": [
       "<div>\n",
       "<style scoped>\n",
       "    .dataframe tbody tr th:only-of-type {\n",
       "        vertical-align: middle;\n",
       "    }\n",
       "\n",
       "    .dataframe tbody tr th {\n",
       "        vertical-align: top;\n",
       "    }\n",
       "\n",
       "    .dataframe thead th {\n",
       "        text-align: right;\n",
       "    }\n",
       "</style>\n",
       "<table border=\"1\" class=\"dataframe\">\n",
       "  <thead>\n",
       "    <tr style=\"text-align: right;\">\n",
       "      <th></th>\n",
       "      <th>date</th>\n",
       "      <th>content</th>\n",
       "      <th>true_sentiment</th>\n",
       "    </tr>\n",
       "  </thead>\n",
       "  <tbody>\n",
       "    <tr>\n",
       "      <th>0</th>\n",
       "      <td>2024-03-19T08:06:15Z</td>\n",
       "      <td>$VERB  \\n$META  \\n \\nMETA partnership!  \\n \\n“...</td>\n",
       "      <td>bullish</td>\n",
       "    </tr>\n",
       "    <tr>\n",
       "      <th>7</th>\n",
       "      <td>2024-03-19T04:44:30Z</td>\n",
       "      <td>$RBLX $META \\nzuck should buy this and add it ...</td>\n",
       "      <td>bullish</td>\n",
       "    </tr>\n",
       "    <tr>\n",
       "      <th>13</th>\n",
       "      <td>2024-03-19T04:25:32Z</td>\n",
       "      <td>$TSLA Lower Weekly low \\nunder Week Low 3-11-2...</td>\n",
       "      <td>bearish</td>\n",
       "    </tr>\n",
       "    <tr>\n",
       "      <th>14</th>\n",
       "      <td>2024-03-19T04:17:06Z</td>\n",
       "      <td>$SPY let’s buy TikTok make it a America Compan...</td>\n",
       "      <td>bullish</td>\n",
       "    </tr>\n",
       "    <tr>\n",
       "      <th>17</th>\n",
       "      <td>2024-03-19T03:23:11Z</td>\n",
       "      <td>$META https://www.reuters.com/legal/transactio...</td>\n",
       "      <td>bearish</td>\n",
       "    </tr>\n",
       "    <tr>\n",
       "      <th>...</th>\n",
       "      <td>...</td>\n",
       "      <td>...</td>\n",
       "      <td>...</td>\n",
       "    </tr>\n",
       "    <tr>\n",
       "      <th>283</th>\n",
       "      <td>2024-03-15T19:52:59Z</td>\n",
       "      <td>$SPY You thought MM and Imbalances were going ...</td>\n",
       "      <td>bearish</td>\n",
       "    </tr>\n",
       "    <tr>\n",
       "      <th>287</th>\n",
       "      <td>2024-03-15T19:32:07Z</td>\n",
       "      <td>$META ops, Marky Mark ought to consider anothe...</td>\n",
       "      <td>bearish</td>\n",
       "    </tr>\n",
       "    <tr>\n",
       "      <th>292</th>\n",
       "      <td>2024-03-15T19:17:57Z</td>\n",
       "      <td>$META wow  Piss porr price action today, Im on...</td>\n",
       "      <td>bearish</td>\n",
       "    </tr>\n",
       "    <tr>\n",
       "      <th>298</th>\n",
       "      <td>2024-03-15T18:51:51Z</td>\n",
       "      <td>$META  at.  90.  All through towel, see now\\n\\...</td>\n",
       "      <td>bullish</td>\n",
       "    </tr>\n",
       "    <tr>\n",
       "      <th>299</th>\n",
       "      <td>2024-03-15T18:48:11Z</td>\n",
       "      <td>$META  \\n \\nJust doubled this at 483.94... rip...</td>\n",
       "      <td>bullish</td>\n",
       "    </tr>\n",
       "  </tbody>\n",
       "</table>\n",
       "<p>105 rows × 3 columns</p>\n",
       "</div>"
      ],
      "text/plain": [
       "                     date                                            content  \\\n",
       "0    2024-03-19T08:06:15Z  $VERB  \\n$META  \\n \\nMETA partnership!  \\n \\n“...   \n",
       "7    2024-03-19T04:44:30Z  $RBLX $META \\nzuck should buy this and add it ...   \n",
       "13   2024-03-19T04:25:32Z  $TSLA Lower Weekly low \\nunder Week Low 3-11-2...   \n",
       "14   2024-03-19T04:17:06Z  $SPY let’s buy TikTok make it a America Compan...   \n",
       "17   2024-03-19T03:23:11Z  $META https://www.reuters.com/legal/transactio...   \n",
       "..                    ...                                                ...   \n",
       "283  2024-03-15T19:52:59Z  $SPY You thought MM and Imbalances were going ...   \n",
       "287  2024-03-15T19:32:07Z  $META ops, Marky Mark ought to consider anothe...   \n",
       "292  2024-03-15T19:17:57Z  $META wow  Piss porr price action today, Im on...   \n",
       "298  2024-03-15T18:51:51Z  $META  at.  90.  All through towel, see now\\n\\...   \n",
       "299  2024-03-15T18:48:11Z  $META  \\n \\nJust doubled this at 483.94... rip...   \n",
       "\n",
       "    true_sentiment  \n",
       "0          bullish  \n",
       "7          bullish  \n",
       "13         bearish  \n",
       "14         bullish  \n",
       "17         bearish  \n",
       "..             ...  \n",
       "283        bearish  \n",
       "287        bearish  \n",
       "292        bearish  \n",
       "298        bullish  \n",
       "299        bullish  \n",
       "\n",
       "[105 rows x 3 columns]"
      ]
     },
     "execution_count": 4,
     "metadata": {},
     "output_type": "execute_result"
    }
   ],
   "source": [
    "df_meta_tweets"
   ]
  },
  {
   "cell_type": "markdown",
   "id": "5dace191-77ec-42ba-81d3-27b83c5df961",
   "metadata": {},
   "source": [
    "#### NOTE:\n",
    "\n",
    "* The sentiment given by StockTwits will be the label (ground truth) of our data"
   ]
  },
  {
   "cell_type": "markdown",
   "id": "f12f4a0a-bc22-428f-a4ae-0fb41629d1e2",
   "metadata": {},
   "source": [
    "### Data Cleansing"
   ]
  },
  {
   "cell_type": "code",
   "execution_count": null,
   "id": "848ff25d-8cd8-4f10-a7c3-e0294255f5cb",
   "metadata": {},
   "outputs": [],
   "source": [
    "### TO DO build a function to clean the tweet"
   ]
  },
  {
   "cell_type": "markdown",
   "id": "4dff00ad-c3a8-482f-ab88-c2e180c11397",
   "metadata": {},
   "source": [
    "### Store the tweets collection into the DB"
   ]
  },
  {
   "cell_type": "markdown",
   "id": "e2045c58-a812-41f5-9a5a-0943b76aad6e",
   "metadata": {},
   "source": [
    "##### Test the connection with the MongoDB cluster"
   ]
  },
  {
   "cell_type": "code",
   "execution_count": 6,
   "id": "f6920374-6310-4330-8bae-7fe1108ee08e",
   "metadata": {
    "tags": []
   },
   "outputs": [
    {
     "name": "stdout",
     "output_type": "stream",
     "text": [
      "Pinged your deployment. You successfully connected to MongoDB!\n"
     ]
    }
   ],
   "source": [
    "test_connection_db(URI)"
   ]
  },
  {
   "cell_type": "code",
   "execution_count": 7,
   "id": "d1f9a789-5823-4d14-b686-81d5f9d3409e",
   "metadata": {
    "tags": []
   },
   "outputs": [
    {
     "name": "stdout",
     "output_type": "stream",
     "text": [
      "STARTING TO CLEAN DATA...\n",
      "tweets_db.META COLLECTION IS SUCCESSFULLY CLEANED \n",
      "\n",
      "\n",
      "STARTING TO INSERT DATA...\n",
      "row: 0 inserted\n",
      "row: 7 inserted\n",
      "row: 13 inserted\n",
      "row: 14 inserted\n",
      "row: 17 inserted\n",
      "row: 18 inserted\n",
      "row: 19 inserted\n",
      "row: 21 inserted\n",
      "row: 26 inserted\n",
      "row: 27 inserted\n",
      "row: 29 inserted\n",
      "row: 32 inserted\n",
      "row: 33 inserted\n",
      "row: 35 inserted\n",
      "row: 36 inserted\n",
      "row: 37 inserted\n",
      "row: 39 inserted\n",
      "row: 40 inserted\n",
      "row: 51 inserted\n",
      "row: 52 inserted\n",
      "row: 53 inserted\n",
      "row: 58 inserted\n",
      "row: 59 inserted\n",
      "row: 61 inserted\n",
      "row: 70 inserted\n",
      "row: 71 inserted\n",
      "row: 73 inserted\n",
      "row: 74 inserted\n",
      "row: 76 inserted\n",
      "row: 80 inserted\n",
      "row: 81 inserted\n",
      "row: 83 inserted\n",
      "row: 84 inserted\n",
      "row: 90 inserted\n",
      "row: 94 inserted\n",
      "row: 98 inserted\n",
      "row: 99 inserted\n",
      "row: 100 inserted\n",
      "row: 105 inserted\n",
      "row: 111 inserted\n",
      "row: 112 inserted\n",
      "row: 115 inserted\n",
      "row: 117 inserted\n",
      "row: 122 inserted\n",
      "row: 123 inserted\n",
      "row: 124 inserted\n",
      "row: 131 inserted\n",
      "row: 133 inserted\n",
      "row: 135 inserted\n",
      "row: 138 inserted\n",
      "row: 140 inserted\n",
      "row: 145 inserted\n",
      "row: 146 inserted\n",
      "row: 147 inserted\n",
      "row: 148 inserted\n",
      "row: 152 inserted\n",
      "row: 167 inserted\n",
      "row: 172 inserted\n",
      "row: 181 inserted\n",
      "row: 184 inserted\n",
      "row: 186 inserted\n",
      "row: 187 inserted\n",
      "row: 190 inserted\n",
      "row: 193 inserted\n",
      "row: 199 inserted\n",
      "row: 200 inserted\n",
      "row: 203 inserted\n",
      "row: 205 inserted\n",
      "row: 210 inserted\n",
      "row: 211 inserted\n",
      "row: 212 inserted\n",
      "row: 213 inserted\n",
      "row: 216 inserted\n",
      "row: 217 inserted\n",
      "row: 218 inserted\n",
      "row: 224 inserted\n",
      "row: 225 inserted\n",
      "row: 226 inserted\n",
      "row: 229 inserted\n",
      "row: 232 inserted\n",
      "row: 236 inserted\n",
      "row: 238 inserted\n",
      "row: 239 inserted\n",
      "row: 243 inserted\n",
      "row: 246 inserted\n",
      "row: 250 inserted\n",
      "row: 252 inserted\n",
      "row: 255 inserted\n",
      "row: 260 inserted\n",
      "row: 261 inserted\n",
      "row: 262 inserted\n",
      "row: 263 inserted\n",
      "row: 267 inserted\n",
      "row: 268 inserted\n",
      "row: 269 inserted\n",
      "row: 273 inserted\n",
      "row: 277 inserted\n",
      "row: 279 inserted\n",
      "row: 281 inserted\n",
      "row: 282 inserted\n",
      "row: 283 inserted\n",
      "row: 287 inserted\n",
      "row: 292 inserted\n",
      "row: 298 inserted\n",
      "row: 299 inserted\n",
      "\n",
      "\n",
      " 105 ROWS INSERTED SUCCESSFULLY INTO tweets_db.META\n"
     ]
    }
   ],
   "source": [
    "insert_tweets(df_meta_tweets, uri=URI, db_name=DB_NAME, collection_name=\"META\")"
   ]
  },
  {
   "cell_type": "markdown",
   "id": "a39a4895-fa8e-4f80-ac45-0dc976e20a93",
   "metadata": {},
   "source": [
    "### Extract data from the MongoDB database"
   ]
  },
  {
   "cell_type": "code",
   "execution_count": 8,
   "id": "73552f26-27db-4e81-aa19-324681534536",
   "metadata": {
    "tags": []
   },
   "outputs": [
    {
     "data": {
      "text/html": [
       "<div>\n",
       "<style scoped>\n",
       "    .dataframe tbody tr th:only-of-type {\n",
       "        vertical-align: middle;\n",
       "    }\n",
       "\n",
       "    .dataframe tbody tr th {\n",
       "        vertical-align: top;\n",
       "    }\n",
       "\n",
       "    .dataframe thead th {\n",
       "        text-align: right;\n",
       "    }\n",
       "</style>\n",
       "<table border=\"1\" class=\"dataframe\">\n",
       "  <thead>\n",
       "    <tr style=\"text-align: right;\">\n",
       "      <th></th>\n",
       "      <th>_id</th>\n",
       "      <th>date</th>\n",
       "      <th>content</th>\n",
       "      <th>true_sentiment</th>\n",
       "    </tr>\n",
       "  </thead>\n",
       "  <tbody>\n",
       "    <tr>\n",
       "      <th>0</th>\n",
       "      <td>65f960bafd8bcf53d7bc88a8</td>\n",
       "      <td>2024-03-19T08:06:15Z</td>\n",
       "      <td>$VERB  \\n$META  \\n \\nMETA partnership!  \\n \\n“...</td>\n",
       "      <td>bullish</td>\n",
       "    </tr>\n",
       "    <tr>\n",
       "      <th>1</th>\n",
       "      <td>65f960bbfd8bcf53d7bc88aa</td>\n",
       "      <td>2024-03-19T04:44:30Z</td>\n",
       "      <td>$RBLX $META \\nzuck should buy this and add it ...</td>\n",
       "      <td>bullish</td>\n",
       "    </tr>\n",
       "    <tr>\n",
       "      <th>2</th>\n",
       "      <td>65f960bdfd8bcf53d7bc88ac</td>\n",
       "      <td>2024-03-19T04:25:32Z</td>\n",
       "      <td>$TSLA Lower Weekly low \\nunder Week Low 3-11-2...</td>\n",
       "      <td>bearish</td>\n",
       "    </tr>\n",
       "    <tr>\n",
       "      <th>3</th>\n",
       "      <td>65f960befd8bcf53d7bc88ae</td>\n",
       "      <td>2024-03-19T04:17:06Z</td>\n",
       "      <td>$SPY let’s buy TikTok make it a America Compan...</td>\n",
       "      <td>bullish</td>\n",
       "    </tr>\n",
       "    <tr>\n",
       "      <th>4</th>\n",
       "      <td>65f960c0fd8bcf53d7bc88b0</td>\n",
       "      <td>2024-03-19T03:23:11Z</td>\n",
       "      <td>$META https://www.reuters.com/legal/transactio...</td>\n",
       "      <td>bearish</td>\n",
       "    </tr>\n",
       "    <tr>\n",
       "      <th>...</th>\n",
       "      <td>...</td>\n",
       "      <td>...</td>\n",
       "      <td>...</td>\n",
       "      <td>...</td>\n",
       "    </tr>\n",
       "    <tr>\n",
       "      <th>100</th>\n",
       "      <td>65f96164fd8bcf53d7bc8970</td>\n",
       "      <td>2024-03-15T19:52:59Z</td>\n",
       "      <td>$SPY You thought MM and Imbalances were going ...</td>\n",
       "      <td>bearish</td>\n",
       "    </tr>\n",
       "    <tr>\n",
       "      <th>101</th>\n",
       "      <td>65f96166fd8bcf53d7bc8972</td>\n",
       "      <td>2024-03-15T19:32:07Z</td>\n",
       "      <td>$META ops, Marky Mark ought to consider anothe...</td>\n",
       "      <td>bearish</td>\n",
       "    </tr>\n",
       "    <tr>\n",
       "      <th>102</th>\n",
       "      <td>65f96168fd8bcf53d7bc8974</td>\n",
       "      <td>2024-03-15T19:17:57Z</td>\n",
       "      <td>$META wow  Piss porr price action today, Im on...</td>\n",
       "      <td>bearish</td>\n",
       "    </tr>\n",
       "    <tr>\n",
       "      <th>103</th>\n",
       "      <td>65f9616afd8bcf53d7bc8976</td>\n",
       "      <td>2024-03-15T18:51:51Z</td>\n",
       "      <td>$META  at.  90.  All through towel, see now\\n\\...</td>\n",
       "      <td>bullish</td>\n",
       "    </tr>\n",
       "    <tr>\n",
       "      <th>104</th>\n",
       "      <td>65f9616cfd8bcf53d7bc8978</td>\n",
       "      <td>2024-03-15T18:48:11Z</td>\n",
       "      <td>$META  \\n \\nJust doubled this at 483.94... rip...</td>\n",
       "      <td>bullish</td>\n",
       "    </tr>\n",
       "  </tbody>\n",
       "</table>\n",
       "<p>105 rows × 4 columns</p>\n",
       "</div>"
      ],
      "text/plain": [
       "                          _id                  date  \\\n",
       "0    65f960bafd8bcf53d7bc88a8  2024-03-19T08:06:15Z   \n",
       "1    65f960bbfd8bcf53d7bc88aa  2024-03-19T04:44:30Z   \n",
       "2    65f960bdfd8bcf53d7bc88ac  2024-03-19T04:25:32Z   \n",
       "3    65f960befd8bcf53d7bc88ae  2024-03-19T04:17:06Z   \n",
       "4    65f960c0fd8bcf53d7bc88b0  2024-03-19T03:23:11Z   \n",
       "..                        ...                   ...   \n",
       "100  65f96164fd8bcf53d7bc8970  2024-03-15T19:52:59Z   \n",
       "101  65f96166fd8bcf53d7bc8972  2024-03-15T19:32:07Z   \n",
       "102  65f96168fd8bcf53d7bc8974  2024-03-15T19:17:57Z   \n",
       "103  65f9616afd8bcf53d7bc8976  2024-03-15T18:51:51Z   \n",
       "104  65f9616cfd8bcf53d7bc8978  2024-03-15T18:48:11Z   \n",
       "\n",
       "                                               content true_sentiment  \n",
       "0    $VERB  \\n$META  \\n \\nMETA partnership!  \\n \\n“...        bullish  \n",
       "1    $RBLX $META \\nzuck should buy this and add it ...        bullish  \n",
       "2    $TSLA Lower Weekly low \\nunder Week Low 3-11-2...        bearish  \n",
       "3    $SPY let’s buy TikTok make it a America Compan...        bullish  \n",
       "4    $META https://www.reuters.com/legal/transactio...        bearish  \n",
       "..                                                 ...            ...  \n",
       "100  $SPY You thought MM and Imbalances were going ...        bearish  \n",
       "101  $META ops, Marky Mark ought to consider anothe...        bearish  \n",
       "102  $META wow  Piss porr price action today, Im on...        bearish  \n",
       "103  $META  at.  90.  All through towel, see now\\n\\...        bullish  \n",
       "104  $META  \\n \\nJust doubled this at 483.94... rip...        bullish  \n",
       "\n",
       "[105 rows x 4 columns]"
      ]
     },
     "execution_count": 8,
     "metadata": {},
     "output_type": "execute_result"
    }
   ],
   "source": [
    "# Retrieve data from MongoDB\n",
    "data_from_mongodb = get_tweets_from_db(uri=URI, db_name=DB_NAME, collection_name=\"META\")\n",
    "\n",
    "# Create DataFrame from retrieved data\n",
    "df_meta_tweets_ = pd.DataFrame(data_from_mongodb)\n",
    "\n",
    "df_meta_tweets_"
   ]
  },
  {
   "cell_type": "code",
   "execution_count": null,
   "id": "5b2f95ab-75d5-402d-8501-665cb80fc27c",
   "metadata": {},
   "outputs": [],
   "source": []
  }
 ],
 "metadata": {
  "kernelspec": {
   "display_name": "Python 3 (ipykernel)",
   "language": "python",
   "name": "python3"
  },
  "language_info": {
   "codemirror_mode": {
    "name": "ipython",
    "version": 3
   },
   "file_extension": ".py",
   "mimetype": "text/x-python",
   "name": "python",
   "nbconvert_exporter": "python",
   "pygments_lexer": "ipython3",
   "version": "3.11.5"
  }
 },
 "nbformat": 4,
 "nbformat_minor": 5
}
